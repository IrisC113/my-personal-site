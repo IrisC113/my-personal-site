{
 "cells": [
  {
   "cell_type": "code",
   "execution_count": 35,
   "id": "23eef5c7-6471-4bcf-895d-544667579b28",
   "metadata": {},
   "outputs": [
    {
     "data": {
      "text/html": [
       "<link rel=\"stylesheet\" type=\"text/css\" href=\"assets/style.css\" />"
      ],
      "text/plain": [
       "<IPython.core.display.HTML object>"
      ]
     },
     "execution_count": 35,
     "metadata": {},
     "output_type": "execute_result"
    }
   ],
   "source": [
    "from IPython.core.display import HTML\n",
    "\n",
    "HTML('<link rel=\"stylesheet\" type=\"text/css\" href=\"assets/style.css\" />')\n"
   ]
  },
  {
   "cell_type": "markdown",
   "id": "706b5a36-e0d7-4981-933a-964dac8947aa",
   "metadata": {},
   "source": [
    "<nav>\n",
    "    <a href=\"index.html\">🏠 首页</a> |\n",
    "    <a href=\"projects.html\">📊 项目</a> |\n",
    "    <a href=\"about.html\">🙋‍♀️ 关于我</a> |\n",
    "    <a href=\"contact.html\">📬 联系我</a>\n",
    "</nav>\n",
    "\n",
    "# 📬 联系我\n",
    "\n",
    "欢迎留言，我会尽快回复你！\n"
   ]
  },
  {
   "cell_type": "code",
   "execution_count": 38,
   "id": "b11409ea-fb98-4c04-a4c6-5d29cf2fae03",
   "metadata": {},
   "outputs": [
    {
     "data": {
      "application/vnd.jupyter.widget-view+json": {
       "model_id": "1f7714e852e243ec8553acb00e631565",
       "version_major": 2,
       "version_minor": 0
      },
      "text/plain": [
       "Text(value='', description='姓名:', placeholder='请输入您的姓名')"
      ]
     },
     "metadata": {},
     "output_type": "display_data"
    },
    {
     "data": {
      "application/vnd.jupyter.widget-view+json": {
       "model_id": "99398eef3ffe432b9241f2d7ea96b24b",
       "version_major": 2,
       "version_minor": 0
      },
      "text/plain": [
       "Text(value='', description='邮箱:', placeholder='请输入您的邮箱')"
      ]
     },
     "metadata": {},
     "output_type": "display_data"
    },
    {
     "data": {
      "application/vnd.jupyter.widget-view+json": {
       "model_id": "fed7afdf98bc423999e1d736ed1e1a9d",
       "version_major": 2,
       "version_minor": 0
      },
      "text/plain": [
       "Textarea(value='', description='留言:', layout=Layout(height='100px', width='90%'), placeholder='请输入留言内容')"
      ]
     },
     "metadata": {},
     "output_type": "display_data"
    },
    {
     "data": {
      "application/vnd.jupyter.widget-view+json": {
       "model_id": "a629fa619c4e4684b892099cd8d5562f",
       "version_major": 2,
       "version_minor": 0
      },
      "text/plain": [
       "Button(button_style='success', description='提交', style=ButtonStyle())"
      ]
     },
     "metadata": {},
     "output_type": "display_data"
    },
    {
     "data": {
      "application/vnd.jupyter.widget-view+json": {
       "model_id": "bc166be17d54495ca45af0f5e510ab94",
       "version_major": 2,
       "version_minor": 0
      },
      "text/plain": [
       "Output()"
      ]
     },
     "metadata": {},
     "output_type": "display_data"
    }
   ],
   "source": [
    "import ipywidgets as widgets\n",
    "from IPython.display import display, Markdown, clear_output\n",
    "\n",
    "# 定义输入控件\n",
    "name = widgets.Text(description=\"姓名:\", placeholder=\"请输入您的姓名\")\n",
    "email = widgets.Text(description=\"邮箱:\", placeholder=\"请输入您的邮箱\")\n",
    "message = widgets.Textarea(description=\"留言:\", layout=widgets.Layout(width='90%', height='100px'), placeholder=\"请输入留言内容\")\n",
    "\n",
    "submit_button = widgets.Button(description=\"提交\", button_style='success')\n",
    "\n",
    "output = widgets.Output()\n",
    "\n",
    "def on_submit_clicked(b):\n",
    "    with output:\n",
    "        clear_output()\n",
    "        # 简单验证\n",
    "        if not name.value or not email.value or not message.value:\n",
    "            display(Markdown(\"**请完整填写所有字段。**\"))\n",
    "        else:\n",
    "            display(Markdown(f\"**谢谢你的留言，{name.value}！我会尽快通过 {email.value} 联系你。**\"))\n",
    "            # 清空输入框\n",
    "            name.value = ''\n",
    "            email.value = ''\n",
    "            message.value = ''\n",
    "\n",
    "submit_button.on_click(on_submit_clicked)\n",
    "\n",
    "# 显示控件和输出区\n",
    "display(name, email, message, submit_button, output)\n"
   ]
  },
  {
   "cell_type": "code",
   "execution_count": null,
   "id": "c7eaccb1-8ee4-426b-ac12-df2a3c0a9d1b",
   "metadata": {},
   "outputs": [],
   "source": []
  }
 ],
 "metadata": {
  "kernelspec": {
   "display_name": "Python 3 (ipykernel)",
   "language": "python",
   "name": "python3"
  },
  "language_info": {
   "codemirror_mode": {
    "name": "ipython",
    "version": 3
   },
   "file_extension": ".py",
   "mimetype": "text/x-python",
   "name": "python",
   "nbconvert_exporter": "python",
   "pygments_lexer": "ipython3",
   "version": "3.12.7"
  },
  "widgets": {
   "application/vnd.jupyter.widget-state+json": {
    "state": {
     "056ae863dd95402eb3f1efe049eae23d": {
      "model_module": "@jupyter-widgets/base",
      "model_module_version": "2.0.0",
      "model_name": "LayoutModel",
      "state": {}
     },
     "10938f73e01140cda84633ec04ed4e81": {
      "model_module": "@jupyter-widgets/base",
      "model_module_version": "2.0.0",
      "model_name": "LayoutModel",
      "state": {
       "height": "100px",
       "width": "90%"
      }
     },
     "11b29d0d70234dfea070e576bb5b3e65": {
      "model_module": "@jupyter-widgets/controls",
      "model_module_version": "2.0.0",
      "model_name": "ButtonStyleModel",
      "state": {
       "font_family": null,
       "font_size": null,
       "font_style": null,
       "font_variant": null,
       "font_weight": null,
       "text_color": null,
       "text_decoration": null
      }
     },
     "1999e1781fdc49fba0290697c6dd4d9c": {
      "model_module": "@jupyter-widgets/controls",
      "model_module_version": "2.0.0",
      "model_name": "TextareaModel",
      "state": {
       "description": "留言:",
       "layout": "IPY_MODEL_10938f73e01140cda84633ec04ed4e81",
       "placeholder": "请输入留言内容",
       "style": "IPY_MODEL_741452361c3749c2be95bfc465f0e921"
      }
     },
     "1f7714e852e243ec8553acb00e631565": {
      "model_module": "@jupyter-widgets/controls",
      "model_module_version": "2.0.0",
      "model_name": "TextModel",
      "state": {
       "description": "姓名:",
       "layout": "IPY_MODEL_91f7fc1c2d61426cbedbaa5de548587c",
       "placeholder": "请输入您的姓名",
       "style": "IPY_MODEL_c6ca29f308484e269f34ec510ad71f88"
      }
     },
     "20af18e7e82b40da80eab59dfd8bd23a": {
      "model_module": "@jupyter-widgets/controls",
      "model_module_version": "2.0.0",
      "model_name": "ButtonStyleModel",
      "state": {
       "font_family": null,
       "font_size": null,
       "font_style": null,
       "font_variant": null,
       "font_weight": null,
       "text_color": null,
       "text_decoration": null
      }
     },
     "279fd17c6a8c44409259d2c6ccc263ba": {
      "model_module": "@jupyter-widgets/controls",
      "model_module_version": "2.0.0",
      "model_name": "TextareaModel",
      "state": {
       "description": "留言:",
       "layout": "IPY_MODEL_e5a614035cfb4d9da8e6251c9513c72b",
       "placeholder": "请输入留言内容",
       "style": "IPY_MODEL_9587232267554330a40eb19b9b7f616e"
      }
     },
     "2b9e787d86a241849bd185193f542bf4": {
      "model_module": "@jupyter-widgets/controls",
      "model_module_version": "2.0.0",
      "model_name": "TextStyleModel",
      "state": {
       "description_width": "",
       "font_size": null,
       "text_color": null
      }
     },
     "329ca86d4ab54ffdad21d6bb36eba3c0": {
      "model_module": "@jupyter-widgets/controls",
      "model_module_version": "2.0.0",
      "model_name": "TextModel",
      "state": {
       "description": "姓名:",
       "layout": "IPY_MODEL_f5c630aba24f4bc69e775a17a7f91050",
       "style": "IPY_MODEL_2b9e787d86a241849bd185193f542bf4"
      }
     },
     "3ad0301f1a3a44c89cdf21050ac5489f": {
      "model_module": "@jupyter-widgets/base",
      "model_module_version": "2.0.0",
      "model_name": "LayoutModel",
      "state": {}
     },
     "3cc51c0f1ffb42bcaa5fa70a6fd72465": {
      "model_module": "@jupyter-widgets/controls",
      "model_module_version": "2.0.0",
      "model_name": "TextStyleModel",
      "state": {
       "description_width": "",
       "font_size": null,
       "text_color": null
      }
     },
     "44745e5f594c480c97ff2f1da1dce6b3": {
      "model_module": "@jupyter-widgets/controls",
      "model_module_version": "2.0.0",
      "model_name": "TextModel",
      "state": {
       "description": "姓名:",
       "layout": "IPY_MODEL_ee0d5e253a4440d1946e42bbc8815c70",
       "placeholder": "请输入您的姓名",
       "style": "IPY_MODEL_89fb066faebc4ae4bb41372298a336a1"
      }
     },
     "48827410434042708bda3a226f9bbe93": {
      "model_module": "@jupyter-widgets/base",
      "model_module_version": "2.0.0",
      "model_name": "LayoutModel",
      "state": {}
     },
     "511722e7a7c54e76a7614ea8e5aa7f6e": {
      "model_module": "@jupyter-widgets/base",
      "model_module_version": "2.0.0",
      "model_name": "LayoutModel",
      "state": {}
     },
     "5ed78c6013dd4bdfad8dd38e7f8f8c7c": {
      "model_module": "@jupyter-widgets/controls",
      "model_module_version": "2.0.0",
      "model_name": "TextModel",
      "state": {
       "description": "邮箱:",
       "layout": "IPY_MODEL_eda4e25a062b43058005d8666318471a",
       "placeholder": "请输入您的邮箱",
       "style": "IPY_MODEL_b9c226a81f554eef9e5fcb67c98de618"
      }
     },
     "676c7a19fafc49d58439bbc7ddde7bca": {
      "model_module": "@jupyter-widgets/base",
      "model_module_version": "2.0.0",
      "model_name": "LayoutModel",
      "state": {}
     },
     "6849828c1c9c4e579ec0581c33b6759f": {
      "model_module": "@jupyter-widgets/controls",
      "model_module_version": "2.0.0",
      "model_name": "ButtonStyleModel",
      "state": {
       "font_family": null,
       "font_size": null,
       "font_style": null,
       "font_variant": null,
       "font_weight": null,
       "text_color": null,
       "text_decoration": null
      }
     },
     "6e05c68f5e2a4e39a0987bc22bd10eb8": {
      "model_module": "@jupyter-widgets/controls",
      "model_module_version": "2.0.0",
      "model_name": "TextModel",
      "state": {
       "description": "邮箱:",
       "layout": "IPY_MODEL_fd7dee562c644812a40819072906ba5e",
       "style": "IPY_MODEL_8acb298af8774d87ba66faeff5c6c8ff"
      }
     },
     "741452361c3749c2be95bfc465f0e921": {
      "model_module": "@jupyter-widgets/controls",
      "model_module_version": "2.0.0",
      "model_name": "TextStyleModel",
      "state": {
       "description_width": "",
       "font_size": null,
       "text_color": null
      }
     },
     "760206532ffa42a197c30739a725f532": {
      "model_module": "@jupyter-widgets/base",
      "model_module_version": "2.0.0",
      "model_name": "LayoutModel",
      "state": {
       "height": "100px",
       "width": "90%"
      }
     },
     "789e5e4da6c6495687539573df0f688b": {
      "model_module": "@jupyter-widgets/controls",
      "model_module_version": "2.0.0",
      "model_name": "ButtonModel",
      "state": {
       "button_style": "success",
       "description": "提交",
       "layout": "IPY_MODEL_056ae863dd95402eb3f1efe049eae23d",
       "style": "IPY_MODEL_6849828c1c9c4e579ec0581c33b6759f",
       "tooltip": null
      }
     },
     "7e6d2fdbd04d405880d6c6762461a3eb": {
      "model_module": "@jupyter-widgets/base",
      "model_module_version": "2.0.0",
      "model_name": "LayoutModel",
      "state": {}
     },
     "7e741f31a85e4c26a3da8565fa3fc2dc": {
      "model_module": "@jupyter-widgets/controls",
      "model_module_version": "2.0.0",
      "model_name": "TextModel",
      "state": {
       "description": "邮箱:",
       "layout": "IPY_MODEL_7e6d2fdbd04d405880d6c6762461a3eb",
       "placeholder": "请输入您的邮箱",
       "style": "IPY_MODEL_93e5307773ba426c8e7c59cf86e44656"
      }
     },
     "83bacb736fab40529e54d037a474e2b0": {
      "model_module": "@jupyter-widgets/controls",
      "model_module_version": "2.0.0",
      "model_name": "TextStyleModel",
      "state": {
       "description_width": "",
       "font_size": null,
       "text_color": null
      }
     },
     "853f3d1c005f419b89d6ef983077018e": {
      "model_module": "@jupyter-widgets/controls",
      "model_module_version": "2.0.0",
      "model_name": "ButtonStyleModel",
      "state": {
       "font_family": null,
       "font_size": null,
       "font_style": null,
       "font_variant": null,
       "font_weight": null,
       "text_color": null,
       "text_decoration": null
      }
     },
     "885893f758a04d61b853337399233b95": {
      "model_module": "@jupyter-widgets/base",
      "model_module_version": "2.0.0",
      "model_name": "LayoutModel",
      "state": {
       "height": "100px",
       "width": "90%"
      }
     },
     "89fb066faebc4ae4bb41372298a336a1": {
      "model_module": "@jupyter-widgets/controls",
      "model_module_version": "2.0.0",
      "model_name": "TextStyleModel",
      "state": {
       "description_width": "",
       "font_size": null,
       "text_color": null
      }
     },
     "8acb298af8774d87ba66faeff5c6c8ff": {
      "model_module": "@jupyter-widgets/controls",
      "model_module_version": "2.0.0",
      "model_name": "TextStyleModel",
      "state": {
       "description_width": "",
       "font_size": null,
       "text_color": null
      }
     },
     "91aa2fe7c59640cea220cd44109a8040": {
      "model_module": "@jupyter-widgets/base",
      "model_module_version": "2.0.0",
      "model_name": "LayoutModel",
      "state": {}
     },
     "91f7fc1c2d61426cbedbaa5de548587c": {
      "model_module": "@jupyter-widgets/base",
      "model_module_version": "2.0.0",
      "model_name": "LayoutModel",
      "state": {}
     },
     "93b423cd8b404c5ca867105d785073b3": {
      "model_module": "@jupyter-widgets/controls",
      "model_module_version": "2.0.0",
      "model_name": "TextareaModel",
      "state": {
       "description": "留言:",
       "layout": "IPY_MODEL_760206532ffa42a197c30739a725f532",
       "style": "IPY_MODEL_9cde77e2839749b5827a714084aa7ed2"
      }
     },
     "93e5307773ba426c8e7c59cf86e44656": {
      "model_module": "@jupyter-widgets/controls",
      "model_module_version": "2.0.0",
      "model_name": "TextStyleModel",
      "state": {
       "description_width": "",
       "font_size": null,
       "text_color": null
      }
     },
     "9587232267554330a40eb19b9b7f616e": {
      "model_module": "@jupyter-widgets/controls",
      "model_module_version": "2.0.0",
      "model_name": "TextStyleModel",
      "state": {
       "description_width": "",
       "font_size": null,
       "text_color": null
      }
     },
     "99398eef3ffe432b9241f2d7ea96b24b": {
      "model_module": "@jupyter-widgets/controls",
      "model_module_version": "2.0.0",
      "model_name": "TextModel",
      "state": {
       "description": "邮箱:",
       "layout": "IPY_MODEL_91aa2fe7c59640cea220cd44109a8040",
       "placeholder": "请输入您的邮箱",
       "style": "IPY_MODEL_3cc51c0f1ffb42bcaa5fa70a6fd72465"
      }
     },
     "9cde77e2839749b5827a714084aa7ed2": {
      "model_module": "@jupyter-widgets/controls",
      "model_module_version": "2.0.0",
      "model_name": "TextStyleModel",
      "state": {
       "description_width": "",
       "font_size": null,
       "text_color": null
      }
     },
     "a22ce36eef58413680817fd38bfb3a41": {
      "model_module": "@jupyter-widgets/base",
      "model_module_version": "2.0.0",
      "model_name": "LayoutModel",
      "state": {}
     },
     "a629fa619c4e4684b892099cd8d5562f": {
      "model_module": "@jupyter-widgets/controls",
      "model_module_version": "2.0.0",
      "model_name": "ButtonModel",
      "state": {
       "button_style": "success",
       "description": "提交",
       "layout": "IPY_MODEL_3ad0301f1a3a44c89cdf21050ac5489f",
       "style": "IPY_MODEL_11b29d0d70234dfea070e576bb5b3e65",
       "tooltip": null
      }
     },
     "ad906e05830c4a66bc2559e113279dcd": {
      "model_module": "@jupyter-widgets/base",
      "model_module_version": "2.0.0",
      "model_name": "LayoutModel",
      "state": {}
     },
     "b07be5a646ec493c9aa6b8dc0a08f41b": {
      "model_module": "@jupyter-widgets/controls",
      "model_module_version": "2.0.0",
      "model_name": "ButtonModel",
      "state": {
       "button_style": "success",
       "description": "提交",
       "layout": "IPY_MODEL_ad906e05830c4a66bc2559e113279dcd",
       "style": "IPY_MODEL_20af18e7e82b40da80eab59dfd8bd23a",
       "tooltip": null
      }
     },
     "b9c226a81f554eef9e5fcb67c98de618": {
      "model_module": "@jupyter-widgets/controls",
      "model_module_version": "2.0.0",
      "model_name": "TextStyleModel",
      "state": {
       "description_width": "",
       "font_size": null,
       "text_color": null
      }
     },
     "bc166be17d54495ca45af0f5e510ab94": {
      "model_module": "@jupyter-widgets/output",
      "model_module_version": "1.0.0",
      "model_name": "OutputModel",
      "state": {
       "layout": "IPY_MODEL_676c7a19fafc49d58439bbc7ddde7bca"
      }
     },
     "c6ca29f308484e269f34ec510ad71f88": {
      "model_module": "@jupyter-widgets/controls",
      "model_module_version": "2.0.0",
      "model_name": "TextStyleModel",
      "state": {
       "description_width": "",
       "font_size": null,
       "text_color": null
      }
     },
     "c901946acac2441396e0b903fc688749": {
      "model_module": "@jupyter-widgets/controls",
      "model_module_version": "2.0.0",
      "model_name": "TextModel",
      "state": {
       "description": "姓名:",
       "layout": "IPY_MODEL_a22ce36eef58413680817fd38bfb3a41",
       "placeholder": "请输入您的姓名",
       "style": "IPY_MODEL_dc9426b6aa0941c9b0ca9f567d1e8065"
      }
     },
     "d8c08468182f4ce8afcbce7e4b075406": {
      "model_module": "@jupyter-widgets/base",
      "model_module_version": "2.0.0",
      "model_name": "LayoutModel",
      "state": {}
     },
     "d9e080c728734ae09ec0be03248a4f8a": {
      "model_module": "@jupyter-widgets/output",
      "model_module_version": "1.0.0",
      "model_name": "OutputModel",
      "state": {
       "layout": "IPY_MODEL_48827410434042708bda3a226f9bbe93"
      }
     },
     "dc9426b6aa0941c9b0ca9f567d1e8065": {
      "model_module": "@jupyter-widgets/controls",
      "model_module_version": "2.0.0",
      "model_name": "TextStyleModel",
      "state": {
       "description_width": "",
       "font_size": null,
       "text_color": null
      }
     },
     "dd8a19b56a4e4836b4e56bd64eafaa8a": {
      "model_module": "@jupyter-widgets/output",
      "model_module_version": "1.0.0",
      "model_name": "OutputModel",
      "state": {
       "layout": "IPY_MODEL_511722e7a7c54e76a7614ea8e5aa7f6e"
      }
     },
     "e5a614035cfb4d9da8e6251c9513c72b": {
      "model_module": "@jupyter-widgets/base",
      "model_module_version": "2.0.0",
      "model_name": "LayoutModel",
      "state": {
       "height": "100px",
       "width": "90%"
      }
     },
     "eda4e25a062b43058005d8666318471a": {
      "model_module": "@jupyter-widgets/base",
      "model_module_version": "2.0.0",
      "model_name": "LayoutModel",
      "state": {}
     },
     "ee0d5e253a4440d1946e42bbc8815c70": {
      "model_module": "@jupyter-widgets/base",
      "model_module_version": "2.0.0",
      "model_name": "LayoutModel",
      "state": {}
     },
     "f4ec3c81e17b46188a26aaca50acaef0": {
      "model_module": "@jupyter-widgets/controls",
      "model_module_version": "2.0.0",
      "model_name": "ButtonModel",
      "state": {
       "button_style": "success",
       "description": "提交",
       "layout": "IPY_MODEL_d8c08468182f4ce8afcbce7e4b075406",
       "style": "IPY_MODEL_853f3d1c005f419b89d6ef983077018e",
       "tooltip": null
      }
     },
     "f5c630aba24f4bc69e775a17a7f91050": {
      "model_module": "@jupyter-widgets/base",
      "model_module_version": "2.0.0",
      "model_name": "LayoutModel",
      "state": {}
     },
     "fd7dee562c644812a40819072906ba5e": {
      "model_module": "@jupyter-widgets/base",
      "model_module_version": "2.0.0",
      "model_name": "LayoutModel",
      "state": {}
     },
     "fed7afdf98bc423999e1d736ed1e1a9d": {
      "model_module": "@jupyter-widgets/controls",
      "model_module_version": "2.0.0",
      "model_name": "TextareaModel",
      "state": {
       "description": "留言:",
       "layout": "IPY_MODEL_885893f758a04d61b853337399233b95",
       "placeholder": "请输入留言内容",
       "style": "IPY_MODEL_83bacb736fab40529e54d037a474e2b0"
      }
     }
    },
    "version_major": 2,
    "version_minor": 0
   }
  }
 },
 "nbformat": 4,
 "nbformat_minor": 5
}
