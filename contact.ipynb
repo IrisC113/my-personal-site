{
 "cells": [
  {
   "cell_type": "code",
   "execution_count": 3,
   "id": "23eef5c7-6471-4bcf-895d-544667579b28",
   "metadata": {},
   "outputs": [
    {
     "data": {
      "text/html": [
       "<link rel=\"stylesheet\" type=\"text/css\" href=\"assets/style.css\" />"
      ],
      "text/plain": [
       "<IPython.core.display.HTML object>"
      ]
     },
     "execution_count": 3,
     "metadata": {},
     "output_type": "execute_result"
    }
   ],
   "source": [
    "from IPython.core.display import HTML\n",
    "\n",
    "HTML('<link rel=\"stylesheet\" type=\"text/css\" href=\"assets/style.css\" />')\n"
   ]
  },
  {
   "cell_type": "markdown",
   "id": "706b5a36-e0d7-4981-933a-964dac8947aa",
   "metadata": {},
   "source": [
    "<nav>\n",
    "    <a href=\"index.html\">🏠 首页</a> |\n",
    "    <a href=\"projects.html\">📊 项目</a> |\n",
    "    <a href=\"about.html\">🙋‍♀️ 关于我</a> |\n",
    "    <a href=\"contact.html\">📬 联系我</a>\n",
    "</nav>\n",
    "\n",
    "# 📬 联系我\n",
    "\n",
    "欢迎留言，我会尽快回复你！\n"
   ]
  },
  {
   "cell_type": "code",
   "execution_count": 38,
   "id": "b11409ea-fb98-4c04-a4c6-5d29cf2fae03",
   "metadata": {},
   "outputs": [
    {
     "data": {
      "application/vnd.jupyter.widget-view+json": {
       "model_id": "1f7714e852e243ec8553acb00e631565",
       "version_major": 2,
       "version_minor": 0
      },
      "text/plain": [
       "Text(value='', description='姓名:', placeholder='请输入您的姓名')"
      ]
     },
     "metadata": {},
     "output_type": "display_data"
    },
    {
     "data": {
      "application/vnd.jupyter.widget-view+json": {
       "model_id": "99398eef3ffe432b9241f2d7ea96b24b",
       "version_major": 2,
       "version_minor": 0
      },
      "text/plain": [
       "Text(value='', description='邮箱:', placeholder='请输入您的邮箱')"
      ]
     },
     "metadata": {},
     "output_type": "display_data"
    },
    {
     "data": {
      "application/vnd.jupyter.widget-view+json": {
       "model_id": "fed7afdf98bc423999e1d736ed1e1a9d",
       "version_major": 2,
       "version_minor": 0
      },
      "text/plain": [
       "Textarea(value='', description='留言:', layout=Layout(height='100px', width='90%'), placeholder='请输入留言内容')"
      ]
     },
     "metadata": {},
     "output_type": "display_data"
    },
    {
     "data": {
      "application/vnd.jupyter.widget-view+json": {
       "model_id": "a629fa619c4e4684b892099cd8d5562f",
       "version_major": 2,
       "version_minor": 0
      },
      "text/plain": [
       "Button(button_style='success', description='提交', style=ButtonStyle())"
      ]
     },
     "metadata": {},
     "output_type": "display_data"
    },
    {
     "data": {
      "application/vnd.jupyter.widget-view+json": {
       "model_id": "bc166be17d54495ca45af0f5e510ab94",
       "version_major": 2,
       "version_minor": 0
      },
      "text/plain": [
       "Output()"
      ]
     },
     "metadata": {},
     "output_type": "display_data"
    }
   ],
   "source": [
    "import ipywidgets as widgets\n",
    "from IPython.display import display, Markdown, clear_output\n",
    "\n",
    "# 定义输入控件\n",
    "name = widgets.Text(description=\"姓名:\", placeholder=\"请输入您的姓名\")\n",
    "email = widgets.Text(description=\"邮箱:\", placeholder=\"请输入您的邮箱\")\n",
    "message = widgets.Textarea(description=\"留言:\", layout=widgets.Layout(width='90%', height='100px'), placeholder=\"请输入留言内容\")\n",
    "\n",
    "submit_button = widgets.Button(description=\"提交\", button_style='success')\n",
    "\n",
    "output = widgets.Output()\n",
    "\n",
    "def on_submit_clicked(b):\n",
    "    with output:\n",
    "        clear_output()\n",
    "        # 简单验证\n",
    "        if not name.value or not email.value or not message.value:\n",
    "            display(Markdown(\"**请完整填写所有字段。**\"))\n",
    "        else:\n",
    "            display(Markdown(f\"**谢谢你的留言，{name.value}！我会尽快通过 {email.value} 联系你。**\"))\n",
    "            # 清空输入框\n",
    "            name.value = ''\n",
    "            email.value = ''\n",
    "            message.value = ''\n",
    "\n",
    "submit_button.on_click(on_submit_clicked)\n",
    "\n",
    "# 显示控件和输出区\n",
    "display(name, email, message, submit_button, output)\n"
   ]
  },
  {
   "cell_type": "code",
   "execution_count": null,
   "id": "c7eaccb1-8ee4-426b-ac12-df2a3c0a9d1b",
   "metadata": {},
   "outputs": [],
   "source": []
  }
 ],
 "metadata": {
  "kernelspec": {
   "display_name": "Python 3 (ipykernel)",
   "language": "python",
   "name": "python3"
  },
  "language_info": {
   "codemirror_mode": {
    "name": "ipython",
    "version": 3
   },
   "file_extension": ".py",
   "mimetype": "text/x-python",
   "name": "python",
   "nbconvert_exporter": "python",
   "pygments_lexer": "ipython3",
   "version": "3.12.7"
  },
  "widgets": {
   "application/vnd.jupyter.widget-state+json": {
    "state": {},
    "version_major": 2,
    "version_minor": 0
   }
  }
 },
 "nbformat": 4,
 "nbformat_minor": 5
}
