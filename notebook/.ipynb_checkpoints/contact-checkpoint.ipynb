{
 "cells": [
  {
   "cell_type": "code",
   "execution_count": 1,
   "id": "23eef5c7-6471-4bcf-895d-544667579b28",
   "metadata": {},
   "outputs": [
    {
     "data": {
      "text/html": [
       "<link rel=\"stylesheet\" type=\"text/css\" href=\"assets/style.css\" />"
      ],
      "text/plain": [
       "<IPython.core.display.HTML object>"
      ]
     },
     "execution_count": 1,
     "metadata": {},
     "output_type": "execute_result"
    }
   ],
   "source": [
    "from IPython.core.display import HTML\n",
    "\n",
    "HTML('<link rel=\"stylesheet\" type=\"text/css\" href=\"assets/style.css\" />')\n"
   ]
  },
  {
   "cell_type": "markdown",
   "id": "706b5a36-e0d7-4981-933a-964dac8947aa",
   "metadata": {},
   "source": [
    "<nav>\n",
    "    <a href=\"index.html\">🏠 首页</a> |\n",
    "    <a href=\"projects.html\">📊 项目</a> |\n",
    "    <a href=\"about.html\">🙋‍♀️ 关于我</a> |\n",
    "    <a href=\"contact.html\">📬 联系我</a>\n",
    "</nav>\n",
    "\n",
    "# 📬 联系我\n",
    "\n",
    "欢迎留言，我会尽快回复你！\n"
   ]
  },
  {
   "cell_type": "code",
   "execution_count": null,
   "id": "c7eaccb1-8ee4-426b-ac12-df2a3c0a9d1b",
   "metadata": {},
   "outputs": [],
   "source": []
  }
 ],
 "metadata": {
  "kernelspec": {
   "display_name": "Python 3 (ipykernel)",
   "language": "python",
   "name": "python3"
  },
  "language_info": {
   "codemirror_mode": {
    "name": "ipython",
    "version": 3
   },
   "file_extension": ".py",
   "mimetype": "text/x-python",
   "name": "python",
   "nbconvert_exporter": "python",
   "pygments_lexer": "ipython3",
   "version": "3.12.7"
  },
  "widgets": {
   "application/vnd.jupyter.widget-state+json": {
    "state": {
     "22c8d568bb7a4e47af44bfaa77f9772c": {
      "model_module": "@jupyter-widgets/base",
      "model_module_version": "2.0.0",
      "model_name": "LayoutModel",
      "state": {}
     },
     "3a532fd10ddd41b2b3d8cb117baebe83": {
      "model_module": "@jupyter-widgets/controls",
      "model_module_version": "2.0.0",
      "model_name": "TextareaModel",
      "state": {
       "description": "留言:",
       "layout": "IPY_MODEL_9bc44c3dc4ce4982858cc5b9d239f0f6",
       "placeholder": "请输入留言内容",
       "style": "IPY_MODEL_b5793747988c4bae976a723db6e78774"
      }
     },
     "3f665d598ccc4e63a8959f3795124d07": {
      "model_module": "@jupyter-widgets/controls",
      "model_module_version": "2.0.0",
      "model_name": "TextModel",
      "state": {
       "description": "邮箱:",
       "layout": "IPY_MODEL_22c8d568bb7a4e47af44bfaa77f9772c",
       "placeholder": "请输入您的邮箱",
       "style": "IPY_MODEL_8309db940c3b4b87968f3b0e99290d75"
      }
     },
     "55e4131c1d4f4738bd4fc24c568c3832": {
      "model_module": "@jupyter-widgets/controls",
      "model_module_version": "2.0.0",
      "model_name": "TextModel",
      "state": {
       "description": "姓名:",
       "layout": "IPY_MODEL_f90fdbec30484abdb0042e0d2ef83080",
       "placeholder": "请输入您的姓名",
       "style": "IPY_MODEL_a8fe275172724952b58a6d428b006f67"
      }
     },
     "587bd99ff2ef4dcf930fd38330a941ee": {
      "model_module": "@jupyter-widgets/output",
      "model_module_version": "1.0.0",
      "model_name": "OutputModel",
      "state": {
       "layout": "IPY_MODEL_b4619ad0ec8d46419390631c26956d97"
      }
     },
     "8309db940c3b4b87968f3b0e99290d75": {
      "model_module": "@jupyter-widgets/controls",
      "model_module_version": "2.0.0",
      "model_name": "TextStyleModel",
      "state": {
       "description_width": "",
       "font_size": null,
       "text_color": null
      }
     },
     "9b60826a21b642688894ba4c830ea939": {
      "model_module": "@jupyter-widgets/controls",
      "model_module_version": "2.0.0",
      "model_name": "ButtonModel",
      "state": {
       "button_style": "success",
       "description": "提交",
       "layout": "IPY_MODEL_c855b37ae85b4378bcf6aada57c20abe",
       "style": "IPY_MODEL_a046bfc19367456aab59d786ed5945f7",
       "tooltip": null
      }
     },
     "9bc44c3dc4ce4982858cc5b9d239f0f6": {
      "model_module": "@jupyter-widgets/base",
      "model_module_version": "2.0.0",
      "model_name": "LayoutModel",
      "state": {
       "height": "100px",
       "width": "90%"
      }
     },
     "a046bfc19367456aab59d786ed5945f7": {
      "model_module": "@jupyter-widgets/controls",
      "model_module_version": "2.0.0",
      "model_name": "ButtonStyleModel",
      "state": {
       "font_family": null,
       "font_size": null,
       "font_style": null,
       "font_variant": null,
       "font_weight": null,
       "text_color": null,
       "text_decoration": null
      }
     },
     "a8fe275172724952b58a6d428b006f67": {
      "model_module": "@jupyter-widgets/controls",
      "model_module_version": "2.0.0",
      "model_name": "TextStyleModel",
      "state": {
       "description_width": "",
       "font_size": null,
       "text_color": null
      }
     },
     "b4619ad0ec8d46419390631c26956d97": {
      "model_module": "@jupyter-widgets/base",
      "model_module_version": "2.0.0",
      "model_name": "LayoutModel",
      "state": {}
     },
     "b5793747988c4bae976a723db6e78774": {
      "model_module": "@jupyter-widgets/controls",
      "model_module_version": "2.0.0",
      "model_name": "TextStyleModel",
      "state": {
       "description_width": "",
       "font_size": null,
       "text_color": null
      }
     },
     "c855b37ae85b4378bcf6aada57c20abe": {
      "model_module": "@jupyter-widgets/base",
      "model_module_version": "2.0.0",
      "model_name": "LayoutModel",
      "state": {}
     },
     "f90fdbec30484abdb0042e0d2ef83080": {
      "model_module": "@jupyter-widgets/base",
      "model_module_version": "2.0.0",
      "model_name": "LayoutModel",
      "state": {}
     }
    },
    "version_major": 2,
    "version_minor": 0
   }
  }
 },
 "nbformat": 4,
 "nbformat_minor": 5
}
