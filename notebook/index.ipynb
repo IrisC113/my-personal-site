{
 "cells": [
  {
   "cell_type": "code",
   "execution_count": 9,
   "id": "ebfe7175-c442-4985-bb82-a438a2578c55",
   "metadata": {},
   "outputs": [
    {
     "data": {
      "text/html": [
       "<link rel=\"stylesheet\" type=\"text/css\" href=\"assets/style.css\" />"
      ],
      "text/plain": [
       "<IPython.core.display.HTML object>"
      ]
     },
     "execution_count": 9,
     "metadata": {},
     "output_type": "execute_result"
    }
   ],
   "source": [
    "from IPython.core.display import HTML\n",
    "\n",
    "HTML('<link rel=\"stylesheet\" href=\"../assets/style.css\">')"
   ]
  },
  {
   "cell_type": "markdown",
   "id": "7a60273a-631b-43fd-b85d-5993103fab01",
   "metadata": {},
   "source": [
    "# 👋 欢迎来到我的主页\n",
    "\n",
    "<nav>\n",
    "    <a href=\"index.html\">🏠 首页</a> |\n",
    "    <a href=\"projects.html\">📊 项目</a> |\n",
    "    <a href=\"about.html\">🙋‍♀️ 关于我</a> |\n",
    "    <a href=\"contact.html\">📬 联系我</a>\n",
    "</nav>\n"
   ]
  },
  {
   "cell_type": "code",
   "execution_count": null,
   "id": "0ee4517a-5d1f-496b-8f6f-f0cafa823f6c",
   "metadata": {},
   "outputs": [],
   "source": []
  }
 ],
 "metadata": {
  "kernelspec": {
   "display_name": "Python 3 (ipykernel)",
   "language": "python",
   "name": "python3"
  },
  "language_info": {
   "codemirror_mode": {
    "name": "ipython",
    "version": 3
   },
   "file_extension": ".py",
   "mimetype": "text/x-python",
   "name": "python",
   "nbconvert_exporter": "python",
   "pygments_lexer": "ipython3",
   "version": "3.12.7"
  },
  "widgets": {
   "application/vnd.jupyter.widget-state+json": {
    "state": {},
    "version_major": 2,
    "version_minor": 0
   }
  }
 },
 "nbformat": 4,
 "nbformat_minor": 5
}
