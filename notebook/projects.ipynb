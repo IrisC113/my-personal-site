{
 "cells": [
  {
   "cell_type": "code",
   "execution_count": 5,
   "id": "c3b88e3c-82af-4df1-b85b-0b58210dd33d",
   "metadata": {},
   "outputs": [
    {
     "data": {
      "text/html": [
       "<link rel=\"stylesheet\" type=\"text/css\" href=\"assets/style.css\" />"
      ],
      "text/plain": [
       "<IPython.core.display.HTML object>"
      ]
     },
     "execution_count": 5,
     "metadata": {},
     "output_type": "execute_result"
    }
   ],
   "source": [
    "from IPython.core.display import HTML\n",
    "\n",
    "HTML('<link rel=\"stylesheet\" href=\"../assets/style.css\">')"
   ]
  },
  {
   "cell_type": "markdown",
   "id": "b75ebdc1-ee57-486e-b657-bccdd2a19c1b",
   "metadata": {},
   "source": [
    "<nav>\n",
    "    <a href=\"index.html\">🏠 首页</a> |\n",
    "    <a href=\"projects.html\">📊 项目</a> |\n",
    "    <a href=\"about.html\">🙋‍♀️ 关于我</a> |\n",
    "    <a href=\"contact.html\">📬 联系我</a>\n",
    "</nav>\n",
    "\n",
    "# 📊 我的项目展示\n",
    "\n",
    "这里将展示我完成的数据科学项目。\n"
   ]
  },
  {
   "cell_type": "code",
   "execution_count": null,
   "id": "1882ce64-71d7-4587-bfd1-ad51c68d7ce5",
   "metadata": {},
   "outputs": [],
   "source": []
  }
 ],
 "metadata": {
  "kernelspec": {
   "display_name": "Python 3 (ipykernel)",
   "language": "python",
   "name": "python3"
  },
  "language_info": {
   "codemirror_mode": {
    "name": "ipython",
    "version": 3
   },
   "file_extension": ".py",
   "mimetype": "text/x-python",
   "name": "python",
   "nbconvert_exporter": "python",
   "pygments_lexer": "ipython3",
   "version": "3.12.7"
  },
  "widgets": {
   "application/vnd.jupyter.widget-state+json": {
    "state": {},
    "version_major": 2,
    "version_minor": 0
   }
  }
 },
 "nbformat": 4,
 "nbformat_minor": 5
}
